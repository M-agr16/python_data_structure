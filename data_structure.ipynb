{
  "nbformat": 4,
  "nbformat_minor": 0,
  "metadata": {
    "colab": {
      "provenance": []
    },
    "kernelspec": {
      "name": "python3",
      "display_name": "Python 3"
    },
    "language_info": {
      "name": "python"
    }
  },
  "cells": [
    {
      "cell_type": "code",
      "execution_count": null,
      "metadata": {
        "colab": {
          "base_uri": "https://localhost:8080/",
          "height": 36
        },
        "id": "8Zl7rwgp02C3",
        "outputId": "0fd85e49-e339-46b6-9204-a413837eaba5"
      },
      "outputs": [
        {
          "output_type": "execute_result",
          "data": {
            "text/plain": [
              "'olleh'"
            ],
            "application/vnd.google.colaboratory.intrinsic+json": {
              "type": "string"
            }
          },
          "metadata": {},
          "execution_count": 1
        }
      ],
      "source": [
        "#1. Write a code to reverse a string\n",
        "\n",
        "string = \"hello\"\n",
        "string[::-1]"
      ]
    },
    {
      "cell_type": "code",
      "source": [
        "# 2. Write a code to count the number of vowels in a string.\n",
        "\n",
        "string = \"manasvi\"\n",
        "string\n",
        "count = 0\n",
        "vowels = \"aeiouAEIOU\"\n",
        "for j in vowels:\n",
        "  for i in string:\n",
        "    if j == i:\n",
        "      count = count+1\n",
        "count\n",
        "\n"
      ],
      "metadata": {
        "colab": {
          "base_uri": "https://localhost:8080/"
        },
        "id": "r4BsT3m907UD",
        "outputId": "d0a500ac-d85b-4349-d84e-8bc670399569"
      },
      "execution_count": null,
      "outputs": [
        {
          "output_type": "execute_result",
          "data": {
            "text/plain": [
              "3"
            ]
          },
          "metadata": {},
          "execution_count": 2
        }
      ]
    },
    {
      "cell_type": "code",
      "source": [
        "# 3.Write a code to check if a given string is a palindrome or not\n",
        "string = 'abbac'\n",
        "\n",
        "if string == string[::-1]:\n",
        "  print(\"palindrome\")\n",
        "else:\n",
        "  print(\"not palindrome\")"
      ],
      "metadata": {
        "colab": {
          "base_uri": "https://localhost:8080/"
        },
        "id": "MYSgv0IB1B_3",
        "outputId": "65d30f1c-341a-48a8-85a0-0f67862b96ad"
      },
      "execution_count": null,
      "outputs": [
        {
          "output_type": "stream",
          "name": "stdout",
          "text": [
            "not palindrome\n"
          ]
        }
      ]
    },
    {
      "cell_type": "code",
      "source": [
        "#4.Write a code to check if two given strings are anagrams of each other\n",
        "string1 = \"listen\"\n",
        "string2 = \"silent\"\n",
        "if sorted(string1) == sorted(string2):\n",
        "  print(\"Anagrams\")"
      ],
      "metadata": {
        "colab": {
          "base_uri": "https://localhost:8080/"
        },
        "id": "4ZHh4T8H2cp2",
        "outputId": "02c4a445-ef9e-4122-8600-1dffe5442ffb"
      },
      "execution_count": null,
      "outputs": [
        {
          "output_type": "stream",
          "name": "stdout",
          "text": [
            "Anagrams\n"
          ]
        }
      ]
    },
    {
      "cell_type": "code",
      "source": [
        "#4.Write a code to check if two given strings are anagrams of each other\n",
        "substring = \"dog\"\n",
        "string = \"maydogdog\"\n",
        "occurences = []\n",
        "start = 0\n",
        "while True :\n",
        "  start = string.find(substring,start)\n",
        "  if start == -1:\n",
        "    break\n",
        "  occurences.append(start)\n",
        "  start = start + 1\n",
        "occurences"
      ],
      "metadata": {
        "colab": {
          "base_uri": "https://localhost:8080/"
        },
        "id": "jGhDubbvBkyq",
        "outputId": "c7143e1b-728b-42fd-9680-d2ac38e1c185"
      },
      "execution_count": null,
      "outputs": [
        {
          "output_type": "execute_result",
          "data": {
            "text/plain": [
              "[3, 6]"
            ]
          },
          "metadata": {},
          "execution_count": 7
        }
      ]
    },
    {
      "cell_type": "code",
      "source": [
        "#6.Write a code to perform basic string compression using the counts of repeated characters\n",
        "string = \"aaabccc\"\n",
        "count=1\n",
        "result=[]\n",
        "for i in range(1,len(string)):\n",
        "  if string[i-1] == string[i]:\n",
        "    count = count+1\n",
        "  else:\n",
        "    result.append(string[i-1]+ str(count))\n",
        "    count = 1\n",
        "result.append(string[-1]+ str(count))\n",
        "k = \"\".join(result)\n",
        "print(k)"
      ],
      "metadata": {
        "colab": {
          "base_uri": "https://localhost:8080/"
        },
        "id": "TCXCPCV9eXMx",
        "outputId": "969ece8e-c955-4c17-c288-d51c2e264aa6"
      },
      "execution_count": null,
      "outputs": [
        {
          "output_type": "stream",
          "name": "stdout",
          "text": [
            "a3b1c3\n"
          ]
        }
      ]
    },
    {
      "cell_type": "code",
      "source": [
        "#7. Write a code to determine if a string has all unique characters\n",
        "def has_unique_characters(string):\n",
        "    # Create a set to track seen characters\n",
        "    seen = set()\n",
        "\n",
        "    # Iterate over each character in the string\n",
        "    for char in string:\n",
        "        # If the character is already in the set, it's not unique\n",
        "        if char in seen:\n",
        "            return False\n",
        "        # Add the character to the set\n",
        "        seen.add(char)\n",
        "\n",
        "    # If no duplicates were found, all characters are unique\n",
        "    return True\n",
        "\n",
        "# Example usage:\n",
        "string1 = \"abcde\"\n",
        "if has_unique_characters(string1):\n",
        "    print(\"The string has all unique characters.\")\n",
        "else:\n",
        "    print(\"The string does not have all unique characters.\")\n",
        "\n",
        "\n",
        "\n"
      ],
      "metadata": {
        "id": "YnAbs7HHtTCu",
        "colab": {
          "base_uri": "https://localhost:8080/"
        },
        "outputId": "261ecf89-3955-49b4-af06-479d596a870b"
      },
      "execution_count": null,
      "outputs": [
        {
          "output_type": "stream",
          "name": "stdout",
          "text": [
            "The string has all unique characters.\n"
          ]
        }
      ]
    },
    {
      "cell_type": "code",
      "source": [
        "#8.Write a code to convert a given string to uppercase or lowercase\n",
        "\n",
        "string = \"Manasvi\"\n",
        "uppercase = input(\"Enter 1 for uppercase and 0 for lowercase: \").strip()\n",
        "\n",
        "if uppercase == \"1\":\n",
        "    u = string.upper()\n",
        "    print(u)\n",
        "elif uppercase == \"0\":\n",
        "    l = string.lower()\n",
        "    print(l)\n",
        "else:\n",
        "    print(\"Invalid input. Please enter 1 for uppercase or 0 for lowercase.\")\n",
        "\n"
      ],
      "metadata": {
        "colab": {
          "base_uri": "https://localhost:8080/"
        },
        "id": "k7b90f0StT6r",
        "outputId": "3a32a8ef-d396-4d6f-8000-0fc08a7f49db"
      },
      "execution_count": null,
      "outputs": [
        {
          "output_type": "stream",
          "name": "stdout",
          "text": [
            "Enter 1 for uppercase and 0 for lowercase: 0\n",
            "manasvi\n"
          ]
        }
      ]
    },
    {
      "cell_type": "code",
      "source": [
        "#9.Write a code to count the number of words in a string\n",
        "string = \"I  am manasvi agarwal\"\n",
        "k = string.split()\n",
        "count = len(k)\n",
        "count\n"
      ],
      "metadata": {
        "colab": {
          "base_uri": "https://localhost:8080/"
        },
        "id": "Se-6vcjJzKRE",
        "outputId": "67f3c461-e57f-4d33-8b7a-5c65b9d8b28d"
      },
      "execution_count": null,
      "outputs": [
        {
          "output_type": "execute_result",
          "data": {
            "text/plain": [
              "4"
            ]
          },
          "metadata": {},
          "execution_count": 6
        }
      ]
    },
    {
      "cell_type": "code",
      "source": [
        "# 10. Write a code to concatenate two strings without using the + operator\n",
        "\n",
        "string1 = \"hello\"\n",
        "string2 = \"world\"\n",
        "concatenate = f\"{string1} {string2}\"\n",
        "concatenate"
      ],
      "metadata": {
        "colab": {
          "base_uri": "https://localhost:8080/",
          "height": 36
        },
        "id": "apEB_r5x0jtB",
        "outputId": "2d82cf79-d9ce-4135-ff41-f045067edbb6"
      },
      "execution_count": null,
      "outputs": [
        {
          "output_type": "execute_result",
          "data": {
            "text/plain": [
              "'hello world'"
            ],
            "application/vnd.google.colaboratory.intrinsic+json": {
              "type": "string"
            }
          },
          "metadata": {},
          "execution_count": 7
        }
      ]
    },
    {
      "cell_type": "code",
      "source": [
        "#11. Write a code to remove all occurrences of a specific element from a list\n",
        "specific_element = 1\n",
        "listo = [1,1,\"lemon\"]\n",
        "updated_list = {i for i in listo if i != specific_element}\n",
        "updated_list\n"
      ],
      "metadata": {
        "colab": {
          "base_uri": "https://localhost:8080/"
        },
        "id": "C7F4Asam2x1G",
        "outputId": "268ebfcd-b3a4-4119-fc35-4187ea81b4b9"
      },
      "execution_count": null,
      "outputs": [
        {
          "output_type": "execute_result",
          "data": {
            "text/plain": [
              "{'lemon'}"
            ]
          },
          "metadata": {},
          "execution_count": 25
        }
      ]
    },
    {
      "cell_type": "code",
      "source": [
        "#12.Implement a code to find the second largest number in a given list of integers\n",
        "\n",
        "listy = [1,5,8,5]\n",
        "\n",
        "r_d=set(listy)\n",
        "sort=sorted(r_d)\n",
        "rev = sort[::-1]\n",
        "second_largest = rev[1]\n",
        "second_largest"
      ],
      "metadata": {
        "colab": {
          "base_uri": "https://localhost:8080/"
        },
        "id": "r6sMw8fV6EIF",
        "outputId": "019512f8-c529-4e59-8883-177d29e5aa02"
      },
      "execution_count": null,
      "outputs": [
        {
          "output_type": "execute_result",
          "data": {
            "text/plain": [
              "5"
            ]
          },
          "metadata": {},
          "execution_count": 24
        }
      ]
    },
    {
      "cell_type": "code",
      "source": [
        "#13.Create a code to count the occurrences of each element in a list and return a dictionary with elements as keys and their counts as values\n",
        "\n",
        "listk = [1,1,2,2]\n",
        "dic = {}\n",
        "\n",
        "for element in listk:\n",
        "  if element in dic:\n",
        "    dic[element] = dic[element]+1\n",
        "  else:\n",
        "    dic[element] = 1\n",
        "\n",
        "dic\n"
      ],
      "metadata": {
        "colab": {
          "base_uri": "https://localhost:8080/"
        },
        "id": "YD-ZnJoV6ggU",
        "outputId": "28e2024b-a97d-4c15-cd54-6f9ffbb9f7ad"
      },
      "execution_count": null,
      "outputs": [
        {
          "output_type": "execute_result",
          "data": {
            "text/plain": [
              "{1: 2, 2: 2}"
            ]
          },
          "metadata": {},
          "execution_count": 23
        }
      ]
    },
    {
      "cell_type": "code",
      "source": [
        "# 14.Write a code to reverse a list in-place without using any built-in reverse functions\n",
        "\n",
        "listu = [1, 3, \"lemon\"]\n",
        "start = 0\n",
        "end = len(listu) - 1\n",
        "\n",
        "while start < end:\n",
        "    listu[start], listu[end] = listu[end], listu[start]\n",
        "    start = start + 1\n",
        "    end = end - 1\n",
        "\n",
        "print(listu)"
      ],
      "metadata": {
        "id": "v_rTcCU1zgWr",
        "colab": {
          "base_uri": "https://localhost:8080/"
        },
        "outputId": "954eb954-6cf2-41c8-fa9e-03184ae6931f"
      },
      "execution_count": null,
      "outputs": [
        {
          "output_type": "stream",
          "name": "stdout",
          "text": [
            "['lemon', 3, 1]\n"
          ]
        }
      ]
    },
    {
      "cell_type": "code",
      "source": [
        "#15. Implement a code to find and remove duplicates from a list while preserving the original order of elements\n",
        "\n",
        "def remove_duplicates(input_list):\n",
        "    seen = set()  # Set to keep track of seen elements\n",
        "    result = []    # List to store the unique elements in original order\n",
        "\n",
        "    for item in input_list:\n",
        "        if item not in seen:\n",
        "            result.append(item)  # Add the item to the result list if it's not a duplicate\n",
        "            seen.add(item)        # Mark the item as seen\n",
        "\n",
        "    return result\n",
        "\n",
        "# Example usage:\n",
        "input_list = [1, 2, 3, 2, 4, 3, 5]\n",
        "result = remove_duplicates(input_list)\n",
        "print(result)\n"
      ],
      "metadata": {
        "id": "thTmNMe30Pwi",
        "colab": {
          "base_uri": "https://localhost:8080/"
        },
        "outputId": "3c07bf43-038e-414a-c27e-d8cb2def37dd"
      },
      "execution_count": null,
      "outputs": [
        {
          "output_type": "stream",
          "name": "stdout",
          "text": [
            "[1, 2, 3, 4, 5]\n"
          ]
        }
      ]
    },
    {
      "cell_type": "code",
      "source": [
        "#16. Create a code to check if a given list is sorted (either in ascending or descending order) or not\n",
        "list1 = [1, 2, 3]\n",
        "\n",
        "# Check if the list is sorted in ascending order\n",
        "if list1 == sorted(list1):\n",
        "    print(\"Sorted in Ascending Order\")\n",
        "# Check if the list is sorted in descending order\n",
        "elif list1 == sorted(list1, reverse=True):\n",
        "    print(\"Sorted in Descending Order\")\n",
        "else:\n",
        "    print(\"Not Sorted\")"
      ],
      "metadata": {
        "colab": {
          "base_uri": "https://localhost:8080/"
        },
        "id": "wB4i3OhM-qUH",
        "outputId": "d084d52b-c03f-4aaf-f172-327e1c20b247"
      },
      "execution_count": null,
      "outputs": [
        {
          "output_type": "stream",
          "name": "stdout",
          "text": [
            "Sorted in Ascending Order\n"
          ]
        }
      ]
    },
    {
      "cell_type": "code",
      "source": [
        "#17. Write a code to merge two sorted lists into a single sorted list\n",
        "list1 = [1,2,3]\n",
        "list2 = [2,5]\n",
        "sorted(list1 + list2)\n"
      ],
      "metadata": {
        "colab": {
          "base_uri": "https://localhost:8080/"
        },
        "id": "4W2tNDXq_zUp",
        "outputId": "d2a927d2-56a5-47d3-a6cc-e8d49a581388"
      },
      "execution_count": null,
      "outputs": [
        {
          "output_type": "execute_result",
          "data": {
            "text/plain": [
              "[1, 2, 2, 3, 5]"
            ]
          },
          "metadata": {},
          "execution_count": 3
        }
      ]
    },
    {
      "cell_type": "code",
      "source": [
        "#18.Implement a code to find the intersection of two given lists\n",
        "lis1 = [1,2,\"apple\",2]\n",
        "lis2 = [3,4,\"banana\",2,2]\n",
        "set(lis1)&set(lis2)\n",
        "\n",
        "\n"
      ],
      "metadata": {
        "colab": {
          "base_uri": "https://localhost:8080/"
        },
        "id": "-gka2oX1A04L",
        "outputId": "1a515e71-214a-4cda-c78e-dbf9545d086b"
      },
      "execution_count": null,
      "outputs": [
        {
          "output_type": "execute_result",
          "data": {
            "text/plain": [
              "{2}"
            ]
          },
          "metadata": {},
          "execution_count": 17
        }
      ]
    },
    {
      "cell_type": "code",
      "source": [
        "#19. Create a code to find the union of two lists without duplicates\n",
        "list1 = [1,8,9,8]\n",
        "list2 = [3,3]\n",
        "set(list1)|set(list2)"
      ],
      "metadata": {
        "colab": {
          "base_uri": "https://localhost:8080/"
        },
        "id": "cXfWEpvBElat",
        "outputId": "16a7fe49-c0ad-44cd-eb2f-ba4453288388"
      },
      "execution_count": null,
      "outputs": [
        {
          "output_type": "execute_result",
          "data": {
            "text/plain": [
              "{1, 3, 8, 9}"
            ]
          },
          "metadata": {},
          "execution_count": 18
        }
      ]
    },
    {
      "cell_type": "code",
      "source": [
        "#20. Write a code to shuffle a given list randomly without using any built-in shuffle functions\n",
        "import random\n",
        "list1 = [1,4,7]\n",
        "list2 = []\n",
        "available_index = list(range(len(list1)))\n",
        "while available_index:\n",
        "  random_index = random.choice(available_index)\n",
        "  list2.append(list1[random_index])\n",
        "  available_index.remove(random_index)\n",
        "list2"
      ],
      "metadata": {
        "colab": {
          "base_uri": "https://localhost:8080/",
          "height": 211
        },
        "id": "MjbN83f1LNZl",
        "outputId": "a31fdcc3-caf3-4936-8ab7-0551900ea4f2"
      },
      "execution_count": null,
      "outputs": [
        {
          "output_type": "error",
          "ename": "TypeError",
          "evalue": "'list' object is not callable",
          "traceback": [
            "\u001b[0;31m---------------------------------------------------------------------------\u001b[0m",
            "\u001b[0;31mTypeError\u001b[0m                                 Traceback (most recent call last)",
            "\u001b[0;32m<ipython-input-32-17a310d16d71>\u001b[0m in \u001b[0;36m<cell line: 5>\u001b[0;34m()\u001b[0m\n\u001b[1;32m      3\u001b[0m \u001b[0mlist1\u001b[0m \u001b[0;34m=\u001b[0m \u001b[0;34m[\u001b[0m\u001b[0;36m1\u001b[0m\u001b[0;34m,\u001b[0m\u001b[0;36m4\u001b[0m\u001b[0;34m,\u001b[0m\u001b[0;36m7\u001b[0m\u001b[0;34m]\u001b[0m\u001b[0;34m\u001b[0m\u001b[0;34m\u001b[0m\u001b[0m\n\u001b[1;32m      4\u001b[0m \u001b[0mlist2\u001b[0m \u001b[0;34m=\u001b[0m \u001b[0;34m[\u001b[0m\u001b[0;34m]\u001b[0m\u001b[0;34m\u001b[0m\u001b[0;34m\u001b[0m\u001b[0m\n\u001b[0;32m----> 5\u001b[0;31m \u001b[0mavailable_index\u001b[0m \u001b[0;34m=\u001b[0m \u001b[0mlist\u001b[0m\u001b[0;34m(\u001b[0m\u001b[0mrange\u001b[0m\u001b[0;34m(\u001b[0m\u001b[0mlen\u001b[0m\u001b[0;34m(\u001b[0m\u001b[0mlist1\u001b[0m\u001b[0;34m)\u001b[0m\u001b[0;34m)\u001b[0m\u001b[0;34m)\u001b[0m\u001b[0;34m\u001b[0m\u001b[0;34m\u001b[0m\u001b[0m\n\u001b[0m\u001b[1;32m      6\u001b[0m \u001b[0;32mwhile\u001b[0m \u001b[0mavailable_index\u001b[0m\u001b[0;34m:\u001b[0m\u001b[0;34m\u001b[0m\u001b[0;34m\u001b[0m\u001b[0m\n\u001b[1;32m      7\u001b[0m   \u001b[0mrandom_index\u001b[0m \u001b[0;34m=\u001b[0m \u001b[0mrandom\u001b[0m\u001b[0;34m.\u001b[0m\u001b[0mchoice\u001b[0m\u001b[0;34m(\u001b[0m\u001b[0mavailable_index\u001b[0m\u001b[0;34m)\u001b[0m\u001b[0;34m\u001b[0m\u001b[0;34m\u001b[0m\u001b[0m\n",
            "\u001b[0;31mTypeError\u001b[0m: 'list' object is not callable"
          ]
        }
      ]
    },
    {
      "cell_type": "code",
      "source": [
        "# 21. Write a code that takes two tuples as input and returns a new tuple containing elements that are common to both input tuples\n",
        "t1 = (2,5,7,7)\n",
        "t2 = (1,5,6,6)\n",
        "t3=set(t1)&set(t2)\n",
        "tuple(t3)"
      ],
      "metadata": {
        "colab": {
          "base_uri": "https://localhost:8080/"
        },
        "id": "cV-byOAJO80R",
        "outputId": "dbb2ee53-fbb5-42f8-a48b-0baacb9e6e56"
      },
      "execution_count": null,
      "outputs": [
        {
          "output_type": "execute_result",
          "data": {
            "text/plain": [
              "(5,)"
            ]
          },
          "metadata": {},
          "execution_count": 39
        }
      ]
    },
    {
      "cell_type": "code",
      "source": [
        "#22. Create a code that prompts the user to enter two sets of integers separated by commas. Then, print the intersection of these two sets\n",
        "\n",
        "s1=set(map(int,input(\"Enter set1 of intergers(seperated by comma)\").split(',')))\n",
        "s2=set(map(int,input(\"Enter set2 of intergers(seperated by comma)\").split(',')))\n",
        "print(s1)\n",
        "print(s2)\n",
        "intersection=s1&s2\n",
        "intersection\n"
      ],
      "metadata": {
        "id": "8WyDLe8MQcyW",
        "colab": {
          "base_uri": "https://localhost:8080/"
        },
        "outputId": "3de1c6a4-a54e-4825-81f4-7d07b53f394c"
      },
      "execution_count": null,
      "outputs": [
        {
          "output_type": "stream",
          "name": "stdout",
          "text": [
            "Enter set1 of intergers(seperated by comma)9,8,6,9\n",
            "Enter set2 of intergers(seperated by comma)5,7,8\n",
            "{8, 9, 6}\n",
            "{8, 5, 7}\n"
          ]
        },
        {
          "output_type": "execute_result",
          "data": {
            "text/plain": [
              "{8}"
            ]
          },
          "metadata": {},
          "execution_count": 1
        }
      ]
    },
    {
      "cell_type": "code",
      "source": [
        "#23. Write a code to concatenate two tuples. The function should take two tuples as input and return a new tuple containing elements from both input tuples.\n",
        "\n",
        "t1 = (1 , 2 , 2)\n",
        "t2 = (3 , 4 , 2)\n",
        "print(t1 + t2)\n",
        "tuple(set(t1) & set(t2))"
      ],
      "metadata": {
        "colab": {
          "base_uri": "https://localhost:8080/"
        },
        "id": "DTvGZ91VAk20",
        "outputId": "e3229a24-dd42-43a0-fe3f-e5a5362ef984"
      },
      "execution_count": null,
      "outputs": [
        {
          "output_type": "stream",
          "name": "stdout",
          "text": [
            "(1, 2, 2, 3, 4, 2)\n"
          ]
        },
        {
          "output_type": "execute_result",
          "data": {
            "text/plain": [
              "(2,)"
            ]
          },
          "metadata": {},
          "execution_count": 2
        }
      ]
    },
    {
      "cell_type": "code",
      "source": [
        "#24.Develop a code that prompts the user to input two sets of strings. Then, print the elements that are present in the first set but not in the second set\n",
        "\n",
        "set1 = set(input(\"enter set1 of strings(comma seperated): \").split(','))\n",
        "set2 = set(input(\"enter set2 of strings(comma seperated): \").split(','))\n",
        "print(set1-set2)"
      ],
      "metadata": {
        "colab": {
          "base_uri": "https://localhost:8080/"
        },
        "id": "zCP4yqWAEfnT",
        "outputId": "93a71338-99e9-4141-d5c7-facc4334ad90"
      },
      "execution_count": null,
      "outputs": [
        {
          "output_type": "stream",
          "name": "stdout",
          "text": [
            "enter set1 of strings(comma seperated): banana,apple\n",
            "enter set2 of strings(comma seperated): apple,oranage\n",
            "{'banana'}\n"
          ]
        }
      ]
    },
    {
      "cell_type": "code",
      "source": [
        "#25. Create a code that takes a tuple and two integers as input. The function should return a new tuple containing elements from the original tuple within the specified range of indices\n",
        "t1= (1,2,3)\n",
        "i=1\n",
        "j=2\n",
        "\n",
        "def function(t,start_index,end_index):\n",
        "  return t[start_index:end_index+1]\n",
        "\n",
        "result = function(t1,i,j)\n",
        "print(result)\n"
      ],
      "metadata": {
        "colab": {
          "base_uri": "https://localhost:8080/"
        },
        "id": "nm2VYHQoGvV3",
        "outputId": "238e590e-0282-4789-9e22-9919681fe19b"
      },
      "execution_count": null,
      "outputs": [
        {
          "output_type": "stream",
          "name": "stdout",
          "text": [
            "(2, 3)\n"
          ]
        }
      ]
    },
    {
      "cell_type": "code",
      "source": [
        "#26. Write a code that prompts the user to input two sets of characters. Then, print the union of these two sets\n",
        "set1 = set(input(\"enter set1 of charachters(comma seperated): \").split(','))\n",
        "set2 = set(input(\"enter set2 of strings(comma seperated): \").split(','))\n",
        "print(set1|set2)"
      ],
      "metadata": {
        "colab": {
          "base_uri": "https://localhost:8080/"
        },
        "id": "tYX7vC5TJf_y",
        "outputId": "db199bd7-d71a-499a-cc2f-ca778334ceb8"
      },
      "execution_count": null,
      "outputs": [
        {
          "output_type": "stream",
          "name": "stdout",
          "text": [
            "enter set1 of charachters(comma seperated): a,b,b\n",
            "enter set2 of strings(comma seperated): c,b\n",
            "{'b', 'c', 'a'}\n"
          ]
        }
      ]
    },
    {
      "cell_type": "code",
      "source": [
        "#27. Develop a code that takes a tuple of integers as input. The function should return the maximum and minimum values from the tuple using tuple unpacking\n",
        "tuple1 = tuple(map(int,input(\"enter tuple1 of integers(comma seperated): \").split(',')))\n",
        "\n",
        "\n",
        "def function3(t1):\n",
        "  maximum_value = max(t1)\n",
        "  minimum_value = min(t1)\n",
        "  return maximum_value,minimum_value\n",
        "\n",
        "max_val,min_val = function3(tuple1)\n",
        "print(\"Maximum value:\",max_val,\"Minimum value:\",min_val)"
      ],
      "metadata": {
        "colab": {
          "base_uri": "https://localhost:8080/"
        },
        "id": "DfWukxP0KXMk",
        "outputId": "5fc6d8c5-54fc-4abb-b94c-2963f2270a08"
      },
      "execution_count": null,
      "outputs": [
        {
          "output_type": "stream",
          "name": "stdout",
          "text": [
            "enter tuple1 of integers(comma seperated): 3,4\n",
            "Maximum value: 4 Minimum value: 3\n"
          ]
        }
      ]
    },
    {
      "cell_type": "code",
      "source": [
        "#28. Create a code that defines two sets of integers. Then, print the union, intersection, and difference of these two sets\n",
        "set1 = {1, 2, 3, 4, 5}\n",
        "set2 = {4, 5, 6, 7, 8}\n",
        "\n",
        "# Union of set1 and set2\n",
        "union_set = set1 | set2\n",
        "print(\"Union of set1 and set2:\", union_set)\n",
        "\n",
        "# Intersection of set1 and set2\n",
        "intersection_set = set1 & set2\n",
        "print(\"Intersection of set1 and set2:\", intersection_set)\n",
        "\n",
        "# Difference between set1 and set2\n",
        "difference_set1 = set1 - set2\n",
        "print(\"Difference of set1 and set2 (set1 - set2):\", difference_set1)\n",
        "\n",
        "# Difference between set2 and set1\n",
        "difference_set2 = set2 - set1\n",
        "print(\"Difference of set2 and set1 (set2 - set1):\", difference_set2)"
      ],
      "metadata": {
        "colab": {
          "base_uri": "https://localhost:8080/"
        },
        "id": "kOyZ0JmiRK0K",
        "outputId": "87378d60-4521-4016-c45f-89117525095a"
      },
      "execution_count": null,
      "outputs": [
        {
          "output_type": "stream",
          "name": "stdout",
          "text": [
            "Union of set1 and set2: {1, 2, 3, 4, 5, 6, 7, 8}\n",
            "Intersection of set1 and set2: {4, 5}\n",
            "Difference of set1 and set2 (set1 - set2): {1, 2, 3}\n",
            "Difference of set2 and set1 (set2 - set1): {8, 6, 7}\n"
          ]
        }
      ]
    },
    {
      "cell_type": "code",
      "source": [
        "#29.Write a code that takes a tuple and an element as input. The function should return the count of occurrences of the given element in the tuple\n",
        "def function2(t1,x):\n",
        "  count = 0\n",
        "  for element in t1:\n",
        "   if x == element:\n",
        "    count= count+1\n",
        "  return count\n",
        "\n",
        "t1=(1,2,3,3)\n",
        "x=3\n",
        "print(function2(t1,x))"
      ],
      "metadata": {
        "colab": {
          "base_uri": "https://localhost:8080/"
        },
        "id": "OLFmoi8lRtcS",
        "outputId": "37dec26e-4f07-4a3c-d1f8-541dc9fbe7b6"
      },
      "execution_count": null,
      "outputs": [
        {
          "output_type": "stream",
          "name": "stdout",
          "text": [
            "2\n"
          ]
        }
      ]
    },
    {
      "cell_type": "code",
      "source": [
        "#30.Develop a code that prompts the user to input two sets of strings. Then, print the symmetric difference of these two sets\n",
        "set1 = set(input(\"enter set1 of strings(comma seperated): \").split(','))\n",
        "set2 = set(input(\"enter set2 of strings(comma seperated): \").split(','))\n",
        "print(set1^set2)\n",
        "a"
      ],
      "metadata": {
        "colab": {
          "base_uri": "https://localhost:8080/"
        },
        "id": "a7K9t7MHaZek",
        "outputId": "88cddfee-9909-406a-f0b7-47f85594389a"
      },
      "execution_count": null,
      "outputs": [
        {
          "output_type": "stream",
          "name": "stdout",
          "text": [
            "enter set1 of strings(comma seperated): banana,apple\n",
            "enter set2 of strings(comma seperated): apple,mango\n",
            "{'banana', 'mango'}\n"
          ]
        }
      ]
    },
    {
      "cell_type": "code",
      "source": [
        "#31. Write a code that takes a list of words as input and returns a dictionary where the keys are unique words and the values are the frequencies of those words in the input list\n",
        "\n",
        "def function_list(list_of_words):\n",
        "  dict = {}\n",
        "  for i in list_of_words:\n",
        "    if i in dict:\n",
        "      dict[i] += 1\n",
        "    else:\n",
        "        dict[i] = 1\n",
        "  return dict\n",
        "\n",
        "list_words = [\"apll\",\"bans\",\"apll\"]\n",
        "result=function_list(list_words)\n",
        "print(result)"
      ],
      "metadata": {
        "colab": {
          "base_uri": "https://localhost:8080/"
        },
        "id": "T-RQW3HueLAK",
        "outputId": "661ec4f0-5aab-490d-8c3d-60f3709dc92a"
      },
      "execution_count": null,
      "outputs": [
        {
          "output_type": "stream",
          "name": "stdout",
          "text": [
            "{'apll': 2, 'bans': 1}\n"
          ]
        }
      ]
    },
    {
      "cell_type": "code",
      "source": [
        "#32.Write a code that takes two dictionaries as input and merges them into a single dictionary. If there are common keys, the values should be added together\n",
        "\n",
        "def function_dic(d1,d2):\n",
        "  for key,value in d2.items():\n",
        "    if key in d1:\n",
        "      d1[key] += value\n",
        "    else:\n",
        "      d1[key] = value\n",
        "  return d1\n",
        "\n",
        "dict_1 = {\"apple\":1,\"banana\":2}\n",
        "dict_2 = {\"apple\":1,\"mango\":2}\n",
        "resultant_dictionary = function_dic(dict_1,dict_2)\n",
        "print(resultant_dictionary)\n",
        "\n"
      ],
      "metadata": {
        "id": "ykpYaxesifQD",
        "outputId": "185c9024-9cc6-4ac5-d806-b235bc938474",
        "colab": {
          "base_uri": "https://localhost:8080/"
        }
      },
      "execution_count": null,
      "outputs": [
        {
          "output_type": "stream",
          "name": "stdout",
          "text": [
            "{'apple': 2, 'banana': 2, 'mango': 2}\n"
          ]
        }
      ]
    },
    {
      "cell_type": "code",
      "source": [
        "#33 Write a code to access a value in a nested dictionary. The function should take the dictionary and a list of keys as input, and return the corresponding value. If any of the keys do not exist in the dictionary, the function should return None\n",
        "\n",
        "nested_dictionary = {\"fruit\":{\"apple\":1,\"banana\":2},\"vegetable\":{\"carrot\":2,\"spinach\":3}}\n",
        "nested_dictionary[\"fruit\"]\n",
        "\n",
        "def function_dk(di,lok):\n",
        "  for key in lok:\n",
        "    if key in di:\n",
        "      return di[key]\n",
        "    else:\n",
        "      return None\n",
        "\n",
        "\n",
        "keys = [\"fruit\",\"vegetable\"]\n",
        "value = function_dk(nested_dictionary,keys)\n",
        "\n",
        "print(value)\n",
        "\n",
        "\n",
        "\n",
        "\n",
        "\n"
      ],
      "metadata": {
        "id": "zhisPOF5iiIs",
        "colab": {
          "base_uri": "https://localhost:8080/"
        },
        "outputId": "9a5c8162-7a63-418c-a37e-16581db13c0d"
      },
      "execution_count": null,
      "outputs": [
        {
          "output_type": "stream",
          "name": "stdout",
          "text": [
            "{'apple': 1, 'banana': 2}\n"
          ]
        }
      ]
    },
    {
      "cell_type": "code",
      "source": [
        "#34.Write a code that takes a dictionary as input and returns a sorted version of it based on the values. You can choose whether to sort in ascending or descending order\n",
        "def fun_dic(d4, reverse=False):\n",
        "    # Sort the dictionary by values using sorted() with a key parameter\n",
        "    sorted_items = sorted(d4.items(), key=lambda item: item[1], reverse=reverse)\n",
        "    # Convert the sorted items back into a dictionary\n",
        "    sorted_dict = dict(sorted_items)\n",
        "    return sorted_dict\n",
        "\n",
        "# Example usage\n",
        "dic = {\"apple\": 2, \"banana\": 1, \"mango\": 3}\n",
        "sorted_dic = fun_dic(dic)  # Ascending order by default\n",
        "print(sorted_dic)\n",
        "\n",
        "# To sort in descending order:\n",
        "sorted_dic_desc = fun_dic(dic, reverse=True)\n",
        "print(sorted_dic_desc)\n"
      ],
      "metadata": {
        "colab": {
          "base_uri": "https://localhost:8080/"
        },
        "id": "oYVmZtcEgP7m",
        "outputId": "e3039981-5fa9-4477-9310-53af3cc3a915"
      },
      "execution_count": null,
      "outputs": [
        {
          "output_type": "stream",
          "name": "stdout",
          "text": [
            "{'banana': 1, 'apple': 2, 'mango': 3}\n",
            "{'mango': 3, 'apple': 2, 'banana': 1}\n"
          ]
        }
      ]
    },
    {
      "cell_type": "code",
      "source": [
        "#35. Write a code that inverts a dictionary, swapping keys and values. Ensure that the inverted dictionary correctly handles cases where multiple keys have the same value by storing the keys as a list in the inverted dictionary\n",
        "\n",
        "def inverted_dictionary(di):\n",
        "  dk = {}\n",
        "  for key,value in di.items():\n",
        "    if value in dk:\n",
        "      dk[value].append(key)\n",
        "    else:\n",
        "      dk[value] = [key]\n",
        "  return dk\n",
        "\n",
        "inverted_dic = {\"apple\": 2, \"banana\": 1, \"mango\": 3,\"kiwi\":2}\n",
        "result = inverted_dictionary(inverted_dic)\n",
        "print(result)"
      ],
      "metadata": {
        "id": "WDNAPuSEqhAI"
      },
      "execution_count": null,
      "outputs": []
    }
  ]
}